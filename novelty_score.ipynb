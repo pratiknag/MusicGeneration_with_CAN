{
 "cells": [
  {
   "cell_type": "code",
   "execution_count": 1,
   "metadata": {},
   "outputs": [],
   "source": [
    "import os\n",
    "import torch \n",
    "import torchvision\n",
    "import torch.nn as nn\n",
    "import torchvision.transforms as transforms\n",
    "import torch.optim as optim\n",
    "import matplotlib.pyplot as plt\n",
    "import torch.nn.functional as F\n",
    "from torchvision import datasets\n",
    "from torch.utils.data import DataLoader\n",
    "from torchvision.utils import save_image\n",
    "from PIL import Image"
   ]
  },
  {
   "cell_type": "code",
   "execution_count": 2,
   "metadata": {},
   "outputs": [],
   "source": [
    "Epochs = 100\n",
    "Lr_Rate = 1e-3\n",
    "Batch_Size = 128"
   ]
  },
  {
   "cell_type": "markdown",
   "metadata": {},
   "source": [
    "### Make sure to resize the pixels array based upon the number of input images. here It is  given as 309 "
   ]
  },
  {
   "cell_type": "code",
   "execution_count": 3,
   "metadata": {},
   "outputs": [],
   "source": [
    "import numpy as np\n",
    "import matplotlib.pyplot as plt\n",
    "with open(\"numpy_data.npy\",\"rb\") as f:\n",
    "    pixels = np.load(f)\n",
    "    \n",
    "pixels = np.resize(pixels,(309,1,128 ,128))\n",
    "\n",
    "dataset = torch.from_numpy(pixels)\n",
    "\n",
    "train_loader = DataLoader(dataset, batch_size=Batch_Size, shuffle=True)"
   ]
  },
  {
   "cell_type": "code",
   "execution_count": 4,
   "metadata": {},
   "outputs": [],
   "source": [
    "class Autoencoder(nn.Module):\n",
    "    def __init__(self):\n",
    "        super(Autoencoder, self).__init__()\n",
    "\n",
    "        #Encoder  16384\n",
    "        self.enc1 = nn.Linear(in_features=16384, out_features=784) # Input image (128*128 = 16384)\n",
    "        self.enc2 = nn.Linear(in_features=784, out_features=256) \n",
    "        self.enc3 = nn.Linear(in_features=256, out_features=128)\n",
    "        self.enc4 = nn.Linear(in_features=128, out_features=64)\n",
    "        self.enc5 = nn.Linear(in_features=64, out_features=32)\n",
    "        self.enc6 = nn.Linear(in_features=32, out_features=16)\n",
    "\n",
    "        #Decoder \n",
    "        self.dec1 = nn.Linear(in_features=16, out_features=32)\n",
    "        self.dec2 = nn.Linear(in_features=32, out_features=64)\n",
    "        self.dec3 = nn.Linear(in_features=64, out_features=128)\n",
    "        self.dec4 = nn.Linear(in_features=128, out_features=256)\n",
    "        self.dec5 = nn.Linear(in_features=256, out_features=784)\n",
    "        self.dec6 = nn.Linear(in_features=784, out_features=16384) # Output image (128*128 = 16384)\n",
    "\n",
    "    def forward(self, x):\n",
    "        x = F.relu(self.enc1(x))\n",
    "        x = F.relu(self.enc2(x))\n",
    "        x = F.relu(self.enc3(x))\n",
    "        x = F.relu(self.enc4(x))\n",
    "        x = F.relu(self.enc5(x))\n",
    "        x = F.relu(self.enc6(x))\n",
    "\n",
    "        x = F.relu(self.dec1(x))\n",
    "        x = F.relu(self.dec2(x))\n",
    "        x = F.relu(self.dec3(x))\n",
    "        x = F.relu(self.dec4(x))\n",
    "        x = F.relu(self.dec5(x))\n",
    "        x = F.relu(self.dec6(x))\n",
    "\n",
    "        return x"
   ]
  },
  {
   "cell_type": "code",
   "execution_count": null,
   "metadata": {},
   "outputs": [],
   "source": []
  },
  {
   "cell_type": "code",
   "execution_count": 5,
   "metadata": {},
   "outputs": [],
   "source": [
    "\n",
    "def get_device():\n",
    "    if torch.cuda.is_available():\n",
    "        device = 'cuda:0'\n",
    "    else:\n",
    "        device = 'cpu'\n",
    "    return device\n",
    "\n",
    "def make_dir():\n",
    "    image_dir = 'Out_Images'\n",
    "    if not os.path.exists(image_dir):\n",
    "        os.makedirs(image_dir)\n",
    "        \n",
    "def save_decod_img(img, epoch):\n",
    "    img = img.view(img.size(0), 1, 128, 128)\n",
    "    save_image(img, './Out_Images/Autoencoder_image{}.png'.format(epoch))\n",
    "    \n",
    "def training(model, train_loader, Epochs):\n",
    "    train_loss = []\n",
    "    for epoch in range(Epochs):\n",
    "        running_loss = 0.0\n",
    "        for data in train_loader:\n",
    "            img = data\n",
    "            img = img.to(device)\n",
    "            img = img.view(img.size(0), -1)\n",
    "            optimizer.zero_grad()\n",
    "            outputs = model(img)\n",
    "            loss = criterion(outputs, img)\n",
    "            loss.backward()\n",
    "            optimizer.step()\n",
    "            running_loss += loss.item()\n",
    "\n",
    "        loss = running_loss / len(train_loader)\n",
    "        train_loss.append(loss)\n",
    "        print('Epoch {} of {}, Train Loss: {:.3f}'.format(\n",
    "            epoch+1, Epochs, loss))\n",
    "\n",
    "        if epoch % 5 == 0:\n",
    "            save_decod_img(outputs.cpu().data, epoch)\n",
    "\n",
    "    return train_loss\n",
    "        \n"
   ]
  },
  {
   "cell_type": "code",
   "execution_count": 6,
   "metadata": {},
   "outputs": [
    {
     "name": "stdout",
     "output_type": "stream",
     "text": [
      "Autoencoder(\n",
      "  (enc1): Linear(in_features=16384, out_features=784, bias=True)\n",
      "  (enc2): Linear(in_features=784, out_features=256, bias=True)\n",
      "  (enc3): Linear(in_features=256, out_features=128, bias=True)\n",
      "  (enc4): Linear(in_features=128, out_features=64, bias=True)\n",
      "  (enc5): Linear(in_features=64, out_features=32, bias=True)\n",
      "  (enc6): Linear(in_features=32, out_features=16, bias=True)\n",
      "  (dec1): Linear(in_features=16, out_features=32, bias=True)\n",
      "  (dec2): Linear(in_features=32, out_features=64, bias=True)\n",
      "  (dec3): Linear(in_features=64, out_features=128, bias=True)\n",
      "  (dec4): Linear(in_features=128, out_features=256, bias=True)\n",
      "  (dec5): Linear(in_features=256, out_features=784, bias=True)\n",
      "  (dec6): Linear(in_features=784, out_features=16384, bias=True)\n",
      ")\n"
     ]
    }
   ],
   "source": [
    "device = get_device()\n",
    "\n",
    "make_dir()\n",
    "model = Autoencoder().to(device)\n",
    "model.to(device)\n",
    "print(model)\n",
    "criterion = nn.MSELoss()\n",
    "optimizer = optim.Adam(model.parameters(), lr=Lr_Rate)\n"
   ]
  },
  {
   "cell_type": "code",
   "execution_count": 7,
   "metadata": {
    "scrolled": true
   },
   "outputs": [
    {
     "name": "stdout",
     "output_type": "stream",
     "text": [
      "Epoch 1 of 100, Train Loss: 0.011\n",
      "Epoch 2 of 100, Train Loss: 0.011\n",
      "Epoch 3 of 100, Train Loss: 0.011\n",
      "Epoch 4 of 100, Train Loss: 0.011\n",
      "Epoch 5 of 100, Train Loss: 0.011\n",
      "Epoch 6 of 100, Train Loss: 0.011\n",
      "Epoch 7 of 100, Train Loss: 0.011\n",
      "Epoch 8 of 100, Train Loss: 0.011\n",
      "Epoch 9 of 100, Train Loss: 0.011\n",
      "Epoch 10 of 100, Train Loss: 0.011\n",
      "Epoch 11 of 100, Train Loss: 0.011\n",
      "Epoch 12 of 100, Train Loss: 0.010\n",
      "Epoch 13 of 100, Train Loss: 0.011\n",
      "Epoch 14 of 100, Train Loss: 0.011\n",
      "Epoch 15 of 100, Train Loss: 0.011\n",
      "Epoch 16 of 100, Train Loss: 0.011\n",
      "Epoch 17 of 100, Train Loss: 0.011\n",
      "Epoch 18 of 100, Train Loss: 0.011\n",
      "Epoch 19 of 100, Train Loss: 0.011\n",
      "Epoch 20 of 100, Train Loss: 0.011\n",
      "Epoch 21 of 100, Train Loss: 0.011\n",
      "Epoch 22 of 100, Train Loss: 0.011\n",
      "Epoch 23 of 100, Train Loss: 0.011\n",
      "Epoch 24 of 100, Train Loss: 0.011\n",
      "Epoch 25 of 100, Train Loss: 0.011\n",
      "Epoch 26 of 100, Train Loss: 0.011\n",
      "Epoch 27 of 100, Train Loss: 0.011\n",
      "Epoch 28 of 100, Train Loss: 0.011\n",
      "Epoch 29 of 100, Train Loss: 0.011\n",
      "Epoch 30 of 100, Train Loss: 0.011\n",
      "Epoch 31 of 100, Train Loss: 0.011\n",
      "Epoch 32 of 100, Train Loss: 0.011\n",
      "Epoch 33 of 100, Train Loss: 0.011\n",
      "Epoch 34 of 100, Train Loss: 0.011\n",
      "Epoch 35 of 100, Train Loss: 0.011\n",
      "Epoch 36 of 100, Train Loss: 0.011\n",
      "Epoch 37 of 100, Train Loss: 0.011\n",
      "Epoch 38 of 100, Train Loss: 0.011\n",
      "Epoch 39 of 100, Train Loss: 0.011\n",
      "Epoch 40 of 100, Train Loss: 0.011\n",
      "Epoch 41 of 100, Train Loss: 0.011\n",
      "Epoch 42 of 100, Train Loss: 0.011\n",
      "Epoch 43 of 100, Train Loss: 0.011\n",
      "Epoch 44 of 100, Train Loss: 0.011\n",
      "Epoch 45 of 100, Train Loss: 0.011\n",
      "Epoch 46 of 100, Train Loss: 0.011\n",
      "Epoch 47 of 100, Train Loss: 0.011\n",
      "Epoch 48 of 100, Train Loss: 0.011\n",
      "Epoch 49 of 100, Train Loss: 0.011\n",
      "Epoch 50 of 100, Train Loss: 0.011\n",
      "Epoch 51 of 100, Train Loss: 0.011\n",
      "Epoch 52 of 100, Train Loss: 0.011\n",
      "Epoch 53 of 100, Train Loss: 0.010\n",
      "Epoch 54 of 100, Train Loss: 0.011\n",
      "Epoch 55 of 100, Train Loss: 0.011\n",
      "Epoch 56 of 100, Train Loss: 0.011\n",
      "Epoch 57 of 100, Train Loss: 0.011\n",
      "Epoch 58 of 100, Train Loss: 0.011\n",
      "Epoch 59 of 100, Train Loss: 0.011\n",
      "Epoch 60 of 100, Train Loss: 0.011\n",
      "Epoch 61 of 100, Train Loss: 0.011\n",
      "Epoch 62 of 100, Train Loss: 0.011\n",
      "Epoch 63 of 100, Train Loss: 0.011\n",
      "Epoch 64 of 100, Train Loss: 0.011\n",
      "Epoch 65 of 100, Train Loss: 0.011\n",
      "Epoch 66 of 100, Train Loss: 0.011\n",
      "Epoch 67 of 100, Train Loss: 0.011\n",
      "Epoch 68 of 100, Train Loss: 0.011\n",
      "Epoch 69 of 100, Train Loss: 0.011\n",
      "Epoch 70 of 100, Train Loss: 0.011\n",
      "Epoch 71 of 100, Train Loss: 0.011\n",
      "Epoch 72 of 100, Train Loss: 0.011\n",
      "Epoch 73 of 100, Train Loss: 0.011\n",
      "Epoch 74 of 100, Train Loss: 0.011\n",
      "Epoch 75 of 100, Train Loss: 0.011\n",
      "Epoch 76 of 100, Train Loss: 0.011\n",
      "Epoch 77 of 100, Train Loss: 0.010\n",
      "Epoch 78 of 100, Train Loss: 0.011\n",
      "Epoch 79 of 100, Train Loss: 0.011\n",
      "Epoch 80 of 100, Train Loss: 0.010\n",
      "Epoch 81 of 100, Train Loss: 0.010\n",
      "Epoch 82 of 100, Train Loss: 0.011\n",
      "Epoch 83 of 100, Train Loss: 0.011\n",
      "Epoch 84 of 100, Train Loss: 0.010\n",
      "Epoch 85 of 100, Train Loss: 0.010\n",
      "Epoch 86 of 100, Train Loss: 0.010\n",
      "Epoch 87 of 100, Train Loss: 0.011\n",
      "Epoch 88 of 100, Train Loss: 0.010\n",
      "Epoch 89 of 100, Train Loss: 0.010\n",
      "Epoch 90 of 100, Train Loss: 0.011\n",
      "Epoch 91 of 100, Train Loss: 0.010\n",
      "Epoch 92 of 100, Train Loss: 0.010\n",
      "Epoch 93 of 100, Train Loss: 0.011\n",
      "Epoch 94 of 100, Train Loss: 0.010\n",
      "Epoch 95 of 100, Train Loss: 0.010\n",
      "Epoch 96 of 100, Train Loss: 0.010\n",
      "Epoch 97 of 100, Train Loss: 0.011\n",
      "Epoch 98 of 100, Train Loss: 0.011\n",
      "Epoch 99 of 100, Train Loss: 0.010\n",
      "Epoch 100 of 100, Train Loss: 0.010\n"
     ]
    }
   ],
   "source": [
    "train_loss = training(model, train_loader, Epochs)"
   ]
  },
  {
   "cell_type": "code",
   "execution_count": 8,
   "metadata": {},
   "outputs": [
    {
     "data": {
      "image/png": "[encoded data removed]",
      "text/plain": [
       "<Figure size 432x288 with 1 Axes>"
      ]
     },
     "metadata": {
      "needs_background": "light"
     },
     "output_type": "display_data"
    }
   ],
   "source": [
    "plt.figure()\n",
    "plt.plot(train_loss)\n",
    "plt.title('Train Loss')\n",
    "plt.xlabel('Epochs')\n",
    "plt.ylabel('Loss')\n",
    "plt.savefig('deep_ae_mnist_loss.png')\n"
   ]
  },
  {
   "cell_type": "markdown",
   "metadata": {},
   "source": [
    "### Some of the generated images can be given here to create the reconstruction and based on that MSE can be calculated to check the novelty of our method"
   ]
  },
  {
   "cell_type": "code",
   "execution_count": 12,
   "metadata": {},
   "outputs": [
    {
     "ename": "TypeError",
     "evalue": "mean() received an invalid combination of arguments - got (out=NoneType, axis=NoneType, dtype=NoneType, ), but expected one of:\n * (*, torch.dtype dtype)\n * (tuple of names dim, bool keepdim, *, torch.dtype dtype)\n * (tuple of ints dim, bool keepdim, *, torch.dtype dtype)\n",
     "output_type": "error",
     "traceback": [
      "\u001b[0;31m---------------------------------------------------------------------------\u001b[0m",
      "\u001b[0;31mTypeError\u001b[0m                                 Traceback (most recent call last)",
      "\u001b[0;32m<ipython-input-12-178e8da63f86>\u001b[0m in \u001b[0;36m<module>\u001b[0;34m\u001b[0m\n\u001b[1;32m      7\u001b[0m \u001b[0;31m# compute the mean squared error between the fake image\u001b[0m\u001b[0;34m\u001b[0m\u001b[0;34m\u001b[0m\u001b[0;34m\u001b[0m\u001b[0m\n\u001b[1;32m      8\u001b[0m \u001b[0;31m# and the reconstructed image, then add it to our list of errors\u001b[0m\u001b[0;34m\u001b[0m\u001b[0;34m\u001b[0m\u001b[0;34m\u001b[0m\u001b[0m\n\u001b[0;32m----> 9\u001b[0;31m \u001b[0mmse\u001b[0m \u001b[0;34m=\u001b[0m \u001b[0mnp\u001b[0m\u001b[0;34m.\u001b[0m\u001b[0mmean\u001b[0m\u001b[0;34m(\u001b[0m\u001b[0;34m(\u001b[0m\u001b[0mimg\u001b[0m \u001b[0;34m-\u001b[0m \u001b[0mdecoded\u001b[0m\u001b[0;34m)\u001b[0m \u001b[0;34m**\u001b[0m \u001b[0;36m2\u001b[0m\u001b[0;34m)\u001b[0m\u001b[0;34m\u001b[0m\u001b[0;34m\u001b[0m\u001b[0m\n\u001b[0m\u001b[1;32m     10\u001b[0m \u001b[0merrors\u001b[0m\u001b[0;34m.\u001b[0m\u001b[0mappend\u001b[0m\u001b[0;34m(\u001b[0m\u001b[0mmse\u001b[0m\u001b[0;34m)\u001b[0m\u001b[0;34m\u001b[0m\u001b[0;34m\u001b[0m\u001b[0m\n",
      "\u001b[0;32m<__array_function__ internals>\u001b[0m in \u001b[0;36mmean\u001b[0;34m(*args, **kwargs)\u001b[0m\n",
      "\u001b[0;32m~/virtual_envs/pytorch/lib64/python3.6/site-packages/numpy/core/fromnumeric.py\u001b[0m in \u001b[0;36mmean\u001b[0;34m(a, axis, dtype, out, keepdims)\u001b[0m\n\u001b[1;32m   3368\u001b[0m             \u001b[0;32mpass\u001b[0m\u001b[0;34m\u001b[0m\u001b[0;34m\u001b[0m\u001b[0m\n\u001b[1;32m   3369\u001b[0m         \u001b[0;32melse\u001b[0m\u001b[0;34m:\u001b[0m\u001b[0;34m\u001b[0m\u001b[0;34m\u001b[0m\u001b[0m\n\u001b[0;32m-> 3370\u001b[0;31m             \u001b[0;32mreturn\u001b[0m \u001b[0mmean\u001b[0m\u001b[0;34m(\u001b[0m\u001b[0maxis\u001b[0m\u001b[0;34m=\u001b[0m\u001b[0maxis\u001b[0m\u001b[0;34m,\u001b[0m \u001b[0mdtype\u001b[0m\u001b[0;34m=\u001b[0m\u001b[0mdtype\u001b[0m\u001b[0;34m,\u001b[0m \u001b[0mout\u001b[0m\u001b[0;34m=\u001b[0m\u001b[0mout\u001b[0m\u001b[0;34m,\u001b[0m \u001b[0;34m**\u001b[0m\u001b[0mkwargs\u001b[0m\u001b[0;34m)\u001b[0m\u001b[0;34m\u001b[0m\u001b[0;34m\u001b[0m\u001b[0m\n\u001b[0m\u001b[1;32m   3371\u001b[0m \u001b[0;34m\u001b[0m\u001b[0m\n\u001b[1;32m   3372\u001b[0m     return _methods._mean(a, axis=axis, dtype=dtype,\n",
      "\u001b[0;31mTypeError\u001b[0m: mean() received an invalid combination of arguments - got (out=NoneType, axis=NoneType, dtype=NoneType, ), but expected one of:\n * (*, torch.dtype dtype)\n * (tuple of names dim, bool keepdim, *, torch.dtype dtype)\n * (tuple of ints dim, bool keepdim, *, torch.dtype dtype)\n"
     ]
    }
   ],
   "source": [
    "image = pixels[0]\n",
    "img = img.to(device)\n",
    "img = img.view(img.size(0), -1)\n",
    "decoded = model(img)\n",
    "errors = []\n",
    "\n",
    "# compute the mean squared error between the fake image\n",
    "# and the reconstructed image, then add it to our list of errors\n",
    "mse = np.mean((img - decoded) ** 2)\n",
    "errors.append(mse)"
   ]
  },
  {
   "cell_type": "code",
   "execution_count": 14,
   "metadata": {},
   "outputs": [
    {
     "data": {
      "text/plain": [
       "torch.Size([53, 16384])"
      ]
     },
     "execution_count": 14,
     "metadata": {},
     "output_type": "execute_result"
    }
   ],
   "source": [
    "decoded.shape "
   ]
  },
  {
   "cell_type": "code",
   "execution_count": 20,
   "metadata": {},
   "outputs": [
    {
     "data": {
      "text/plain": [
       "<matplotlib.image.AxesImage at 0x7fee0b126898>"
      ]
     },
     "execution_count": 20,
     "metadata": {},
     "output_type": "execute_result"
    },
    {
     "data": {
      "image/png": "[encoded data removed]",
      "text/plain": [
       "<Figure size 432x288 with 1 Axes>"
      ]
     },
     "metadata": {
      "needs_background": "light"
     },
     "output_type": "display_data"
    }
   ],
   "source": [
    "for data in train_loader:\n",
    "    img = data \n",
    "    img = img.to(device)\n",
    "    \n",
    "plt.imshow(img[2][0].cpu())"
   ]
  },
  {
   "cell_type": "code",
   "execution_count": null,
   "metadata": {},
   "outputs": [],
   "source": []
  },
  {
   "cell_type": "code",
   "execution_count": null,
   "metadata": {},
   "outputs": [],
   "source": []
  },
  {
   "cell_type": "code",
   "execution_count": null,
   "metadata": {},
   "outputs": [],
   "source": []
  },
  {
   "cell_type": "code",
   "execution_count": null,
   "metadata": {},
   "outputs": [],
   "source": []
  },
  {
   "cell_type": "code",
   "execution_count": 13,
   "metadata": {
    "scrolled": true
   },
   "outputs": [],
   "source": [
    "import sys\n",
    "\n",
    "from scipy.linalg import norm\n",
    "from scipy import sum, average"
   ]
  },
  {
   "cell_type": "code",
   "execution_count": 51,
   "metadata": {},
   "outputs": [],
   "source": [
    "def compare_images(img1, img2):\n",
    "    # normalize to compensate for exposure difference, this may be unnecessary\n",
    "    # consider disabling it\n",
    "    img1 = normalize(img1)\n",
    "    img2 = normalize(img2)\n",
    "    # calculate the difference and its norms\n",
    "    diff = img1 - img2  # elementwise for scipy arrays\n",
    "    \n",
    "    m_norm = sum(abs(diff))  # Manhattan norm\n",
    "    z_norm = norm(diff.ravel(), 0)  # Zero norm\n",
    "    return (m_norm, z_norm)"
   ]
  },
  {
   "cell_type": "code",
   "execution_count": 52,
   "metadata": {},
   "outputs": [],
   "source": [
    "def to_grayscale(arr):\n",
    "    \"If arr is a color image (3D array), convert it to grayscale (2D array).\"\n",
    "    if len(arr.shape) == 3:\n",
    "        return average(arr, -1)  # average over the last axis (color channels)\n",
    "    else:\n",
    "        return arr"
   ]
  },
  {
   "cell_type": "code",
   "execution_count": 53,
   "metadata": {},
   "outputs": [],
   "source": [
    "def normalize(arr):\n",
    "    rng = arr.max()-arr.min()\n",
    "    amin = arr.min()\n",
    "    return (arr-amin)*255/rng"
   ]
  },
  {
   "cell_type": "code",
   "execution_count": 54,
   "metadata": {},
   "outputs": [],
   "source": [
    "def m():\n",
    "    file1, file2 = sys.argv[1:1+2]\n",
    "    # read images as 2D arrays (convert to grayscale for simplicity)\n",
    "    img1 = to_grayscale(img[3].detach().cpu())\n",
    "    img2 = to_grayscale(img[2].detach().cpu())\n",
    "    # compare\n",
    "    n_m, n_0 = compare_images(img1, img2)\n",
    "    print(\"Manhattan norm:\", n_m, \"/ per pixel:\", n_m/img1.size)\n",
    "    print(\"Zero norm:\", n_0, \"/ per pixel:\", n_0*1.0/img1.size)"
   ]
  },
  {
   "cell_type": "code",
   "execution_count": 55,
   "metadata": {},
   "outputs": [
    {
     "name": "stdout",
     "output_type": "stream",
     "text": [
      "Manhattan norm: 3356.0337 / per pixel: 26.219013214111328\n",
      "Zero norm: 37.0 / per pixel: 0.2890625\n"
     ]
    },
    {
     "name": "stderr",
     "output_type": "stream",
     "text": [
      "/home/shyma/virtual_envs/pytorch/lib64/python3.6/site-packages/ipykernel_launcher.py:4: DeprecationWarning: scipy.average is deprecated and will be removed in SciPy 2.0.0, use numpy.average instead\n",
      "  after removing the cwd from sys.path.\n",
      "/home/shyma/virtual_envs/pytorch/lib64/python3.6/site-packages/ipykernel_launcher.py:9: DeprecationWarning: scipy.sum is deprecated and will be removed in SciPy 2.0.0, use numpy.sum instead\n",
      "  if __name__ == '__main__':\n"
     ]
    }
   ],
   "source": [
    "m()"
   ]
  },
  {
   "cell_type": "code",
   "execution_count": 42,
   "metadata": {
    "scrolled": true
   },
   "outputs": [
    {
     "name": "stderr",
     "output_type": "stream",
     "text": [
      "/home/shyma/virtual_envs/pytorch/lib64/python3.6/site-packages/ipykernel_launcher.py:9: DeprecationWarning: scipy.sum is deprecated and will be removed in SciPy 2.0.0, use numpy.sum instead\n",
      "  if __name__ == '__main__':\n"
     ]
    },
    {
     "data": {
      "text/plain": [
       "(201358.0, 1156.0)"
      ]
     },
     "execution_count": 42,
     "metadata": {},
     "output_type": "execute_result"
    }
   ],
   "source": [
    "compare_images(img[3].detach().cpu(),img[2].detach().cpu())"
   ]
  },
  {
   "cell_type": "code",
   "execution_count": null,
   "metadata": {},
   "outputs": [],
   "source": []
  }
 ],
 "metadata": {
  "kernelspec": {
   "display_name": "Python 3",
   "language": "python",
   "name": "python3"
  },
  "language_info": {
   "codemirror_mode": {
    "name": "ipython",
    "version": 3
   },
   "file_extension": ".py",
   "mimetype": "text/x-python",
   "name": "python",
   "nbconvert_exporter": "python",
   "pygments_lexer": "ipython3",
   "version": "3.6.8"
  }
 },
 "nbformat": 4,
 "nbformat_minor": 4
}
